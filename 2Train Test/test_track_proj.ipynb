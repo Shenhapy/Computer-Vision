{
  "cells": [
    {
      "cell_type": "markdown",
      "metadata": {
        "id": "9bQ_NlI6mpRI"
      },
      "source": [
        "# Project title: Binary Classification\n"
      ]
    },
    {
      "cell_type": "markdown",
      "metadata": {
        "id": "FzsONIH_msdC"
      },
      "source": [
        "#### In this project we will be using the given videos stored in a tensor format that holds 18 different categories of objects inside these videos and also extra information such as the bounding boxes of the objects, coordinates, segmentation masks, depth masks,..etc.\n",
        "\n",
        "* first we will load the data using the method provided by the professor in the given notebook(\"project.ipynb\").\n",
        "\n",
        "* then we will divide the videos into frames to facilitate dealing with the data.\n",
        "\n",
        "* then we will extract the categories of the objects for each frame which will be our labels for the classification task.\n",
        "* we will explore the data and visualize a sample of it to help us decide which class we will use to apply our Binary Classification task.\n",
        "\n",
        "\n",
        "* after selecting the class we will use,  we will modify the labels to be 1 for the selected class and 0 for the rest of the classes.\n",
        "\n",
        "\n",
        "* finally we will apply some preprocessing techniques to prepare the data for the classification task.\n",
        "\n"
      ]
    },
    {
      "cell_type": "markdown",
      "metadata": {
        "id": "Lx91zFM5luS3"
      },
      "source": [
        "# Import library"
      ]
    },
    {
      "cell_type": "code",
      "execution_count": 1,
      "metadata": {
        "id": "tml4nhzRGqdV"
      },
      "outputs": [
        {
          "name": "stderr",
          "output_type": "stream",
          "text": [
            "c:\\Users\\Shenhapy\\AppData\\Local\\Programs\\Python\\Python311\\Lib\\site-packages\\tqdm\\auto.py:21: TqdmWarning: IProgress not found. Please update jupyter and ipywidgets. See https://ipywidgets.readthedocs.io/en/stable/user_install.html\n",
            "  from .autonotebook import tqdm as notebook_tqdm\n"
          ]
        }
      ],
      "source": [
        "import os\n",
        "import numpy as np\n",
        "import pandas as pd\n",
        "import seaborn as sns\n",
        "import matplotlib.pyplot as plt\n",
        "import tensorflow as tf\n",
        "import tensorflow_datasets as tfds\n",
        "from collections import Counter\n",
        "# from google.colab import drive\n",
        "from skimage.filters import unsharp_mask\n",
        "from skimage.color import rgb2gray\n",
        "from skimage.transform import resize\n",
        "from skimage.restoration import denoise_nl_means, estimate_sigma\n",
        "from skimage.exposure import equalize_hist\n",
        "from sklearn.utils import shuffle\n",
        "from sklearn.model_selection import train_test_split\n",
        "from tensorflow.keras.preprocessing.image import ImageDataGenerator\n",
        "from sklearn.metrics import accuracy_score, f1_score\n",
        "from tensorflow.keras.applications import InceptionResNetV2\n",
        "from tensorflow.keras.layers import GlobalAveragePooling2D, Dense\n",
        "from sklearn.metrics import confusion_matrix\n",
        "from tensorflow.keras.applications import MobileNetV2\n",
        "from tensorflow.keras.applications import ResNet50\n",
        "from tensorflow.keras.layers import Input, Dense, Flatten\n",
        "from tensorflow.keras.models import Model\n",
        "from sklearn.model_selection import train_test_split\n",
        "from tensorflow.keras.preprocessing.image import ImageDataGenerator\n",
        "from skimage.filters import unsharp_mask\n",
        "from skimage.color import rgb2gray\n",
        "from skimage.transform import resize\n",
        "from skimage.restoration import denoise_nl_means, estimate_sigma\n",
        "from sklearn.metrics import confusion_matrix, classification_report\n",
        "from tensorflow.keras.applications import InceptionV3\n",
        "from tensorflow.keras.layers import Dense, GlobalAveragePooling2D\n",
        "from tensorflow.keras.optimizers import Adam\n",
        "from tensorflow.keras.layers import Dropout\n",
        "from tensorflow.keras.callbacks import EarlyStopping\n",
        "from tensorflow.keras.layers import Input, Flatten, Dense\n",
        "from tensorflow.keras.layers import GlobalAveragePooling2D, Dense, Dropout\n",
        "\n"
      ]
    },
    {
      "cell_type": "markdown",
      "metadata": {
        "id": "GNpDyOndqIRQ"
      },
      "source": [
        "## Yolo v8"
      ]
    },
    {
      "cell_type": "code",
      "execution_count": null,
      "metadata": {},
      "outputs": [],
      "source": []
    },
    {
      "cell_type": "code",
      "execution_count": 2,
      "metadata": {
        "id": "XKzVgOnGvSLx"
      },
      "outputs": [],
      "source": [
        "import os\n",
        "\n",
        "# Define the base directory path\n",
        "base_dir = \"E:/OneDrive - University of Ottawa/CV/CV Project/Data\"\n",
        "test_dir = \"E:\\OneDrive - University of Ottawa\\CV\\CV Project\\Data test\""
      ]
    },
    {
      "cell_type": "code",
      "execution_count": 1,
      "metadata": {
        "id": "7l6Ls5L2vSLx",
        "outputId": "8e201a90-aad4-4c29-b615-b0dc202e15f1"
      },
      "outputs": [
        {
          "ename": "NameError",
          "evalue": "name 'base_dir' is not defined",
          "output_type": "error",
          "traceback": [
            "\u001b[1;31m---------------------------------------------------------------------------\u001b[0m",
            "\u001b[1;31mNameError\u001b[0m                                 Traceback (most recent call last)",
            "\u001b[1;32me:\\OneDrive - University of Ottawa\\CV\\CV Project\\2Train Test\\test_track_proj.ipynb Cell 8\u001b[0m line \u001b[0;36m8\n\u001b[0;32m      <a href='vscode-notebook-cell:/e%3A/OneDrive%20-%20University%20of%20Ottawa/CV/CV%20Project/2Train%20Test/test_track_proj.ipynb#Y111sZmlsZQ%3D%3D?line=4'>5</a>\u001b[0m model \u001b[39m=\u001b[39m YOLO(\u001b[39m\"\u001b[39m\u001b[39myolov8n-cls.pt\u001b[39m\u001b[39m\"\u001b[39m)  \u001b[39m# load a pretained model\u001b[39;00m\n\u001b[0;32m      <a href='vscode-notebook-cell:/e%3A/OneDrive%20-%20University%20of%20Ottawa/CV/CV%20Project/2Train%20Test/test_track_proj.ipynb#Y111sZmlsZQ%3D%3D?line=6'>7</a>\u001b[0m \u001b[39m# Use the model\u001b[39;00m\n\u001b[1;32m----> <a href='vscode-notebook-cell:/e%3A/OneDrive%20-%20University%20of%20Ottawa/CV/CV%20Project/2Train%20Test/test_track_proj.ipynb#Y111sZmlsZQ%3D%3D?line=7'>8</a>\u001b[0m results \u001b[39m=\u001b[39m model\u001b[39m.\u001b[39mtrain(data\u001b[39m=\u001b[39mbase_dir, epochs\u001b[39m=\u001b[39m\u001b[39m2\u001b[39m, imgsz\u001b[39m=\u001b[39m\u001b[39m128\u001b[39m)  \u001b[39m# train the model\u001b[39;00m\n",
            "\u001b[1;31mNameError\u001b[0m: name 'base_dir' is not defined"
          ]
        }
      ],
      "source": [
        "from ultralytics import YOLO\n",
        "\n",
        "\n",
        "# Load a model\n",
        "model = YOLO(\"yolov8n-cls.pt\")  # load a pretained model\n",
        "\n",
        "# Use the model\n",
        "results = model.train(data=base_dir, epochs=2, imgsz=128)  # train the model"
      ]
    },
    {
      "cell_type": "code",
      "execution_count": null,
      "metadata": {
        "id": "iF3l3uTpvSLy"
      },
      "outputs": [],
      "source": [
        "# Load a model\n",
        "# model = YOLO('yolov8n-cls.pt')  # load an official model\n",
        "model = YOLO(r\"E:\\OneDrive - University of Ottawa\\CV\\CV Project\\2Train Test\\runs\\classify\\train\\weights\\best.pt\")  # load a custom model\n",
        "\n",
        "# Predict with the model\n",
        "shoe_test = model(r\"E:\\OneDrive - University of Ottawa\\CV\\CV Project\\Data test\\test\\Shoe\")  # predict on an image\n",
        "no_shoe_test = model(r\"E:\\OneDrive - University of Ottawa\\CV\\CV Project\\Data test\\test\\No_Shoe\")  # predict on an image\n",
        "\n",
        "shoe_train = model(r\"E:\\OneDrive - University of Ottawa\\CV\\CV Project\\Data\\train\\Shoe\")  # predict on an image\n",
        "no_shoe_train = model(r\"E:\\OneDrive - University of Ottawa\\CV\\CV Project\\Data\\train\\No_Shoe\")  # predict on an image\n",
        "\n",
        "shoe_val = model(r\"E:\\OneDrive - University of Ottawa\\CV\\CV Project\\Data\\val\\Shoe\")  # predict on an image\n",
        "no_shoe_val = model(r\"E:\\OneDrive - University of Ottawa\\CV\\CV Project\\Data\\val\\No_Shoe\")  # predict on an image"
      ]
    }
  ],
  "metadata": {
    "accelerator": "GPU",
    "colab": {
      "gpuType": "V100",
      "provenance": []
    },
    "kernelspec": {
      "display_name": "Python 3",
      "name": "python3"
    },
    "language_info": {
      "codemirror_mode": {
        "name": "ipython",
        "version": 3
      },
      "file_extension": ".py",
      "mimetype": "text/x-python",
      "name": "python",
      "nbconvert_exporter": "python",
      "pygments_lexer": "ipython3",
      "version": "3.11.5"
    }
  },
  "nbformat": 4,
  "nbformat_minor": 0
}
