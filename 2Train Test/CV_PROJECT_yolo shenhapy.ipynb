{
  "cells": [
    {
      "cell_type": "markdown",
      "metadata": {
        "id": "GwDlLbWf6PxY"
      },
      "source": [
        "# Project title: Binary Classification\n"
      ]
    },
    {
      "cell_type": "markdown",
      "metadata": {
        "id": "pSRUMspe5a3C"
      },
      "source": [
        "#### In this project we will be using the given videos stored in a tensor format that holds 18 different categories of objects inside these videos and also extra information such as the bounding boxes of the objects, coordinates, segmentation masks, depth masks,..etc.\n",
        "\n",
        "* first we will load the data using the method provided by the professor in the given notebook(\"project.ipynb\").\n",
        "\n",
        "* then we will divide the videos into frames to facilitate dealing with the data.\n",
        "\n",
        "* then we will extract the categories of the objects for each frame which will be our labels for the classification task.\n",
        "* we will explore the data and visualize a sample of it to help us decide which class we will use to apply our Binary Classification task.\n",
        "\n",
        "\n",
        "* after selecting the class we will use,  we will modify the labels to be 1 for the selected class and 0 for the rest of the classes.\n",
        "\n",
        "\n",
        "* finally we will apply some preprocessing techniques to prepare the data for the classification task.\n",
        "\n"
      ]
    },
    {
      "cell_type": "markdown",
      "metadata": {
        "id": "HuqNStgLCUwX"
      },
      "source": [
        "## import library"
      ]
    },
    {
      "cell_type": "code",
      "execution_count": 1,
      "metadata": {
        "id": "nnNpSxwLi6Mg"
      },
      "outputs": [
        {
          "name": "stderr",
          "output_type": "stream",
          "text": [
            "c:\\Users\\Shenhapy\\AppData\\Local\\Programs\\Python\\Python311\\Lib\\site-packages\\tqdm\\auto.py:21: TqdmWarning: IProgress not found. Please update jupyter and ipywidgets. See https://ipywidgets.readthedocs.io/en/stable/user_install.html\n",
            "  from .autonotebook import tqdm as notebook_tqdm\n"
          ]
        }
      ],
      "source": [
        "import os\n",
        "import numpy as np\n",
        "import pandas as pd\n",
        "import matplotlib.pyplot as plt\n",
        "import tensorflow as tf\n",
        "import tensorflow_datasets as tfds\n",
        "from skimage.filters import unsharp_mask\n",
        "from skimage.color import rgb2gray\n",
        "from skimage.transform import resize\n",
        "from skimage.restoration import denoise_nl_means, estimate_sigma\n",
        "from skimage.exposure import equalize_hist\n",
        "from sklearn.utils import shuffle\n",
        "from tensorflow.keras.preprocessing.image import ImageDataGenerator"
      ]
    },
    {
      "cell_type": "markdown",
      "metadata": {
        "id": "w52UEy8oCSHd"
      },
      "source": [
        "## load data"
      ]
    },
    {
      "cell_type": "code",
      "execution_count": 2,
      "metadata": {
        "colab": {
          "base_uri": "https://localhost:8080/"
        },
        "id": "3gvY8kkLCT8l",
        "outputId": "329bfbea-a807-48df-c507-289528d836e5"
      },
      "outputs": [
        {
          "name": "stderr",
          "output_type": "stream",
          "text": [
            "WARNING:absl:You use TensorFlow DType <dtype: 'uint8'> in tfds.features This will soon be deprecated in favor of NumPy DTypes. In the meantime it was converted to uint8.\n",
            "WARNING:absl:You use TensorFlow DType <dtype: 'uint16'> in tfds.features This will soon be deprecated in favor of NumPy DTypes. In the meantime it was converted to uint16.\n"
          ]
        },
        {
          "name": "stdout",
          "output_type": "stream",
          "text": [
            "E:\\OneDrive - University of Ottawa\\CV\\CV Project\n",
            "Using directory:  E:\\OneDrive - University of Ottawa\\CV\\CV Project\\tensorflow_data\\tensorflow_data\n"
          ]
        },
        {
          "name": "stderr",
          "output_type": "stream",
          "text": [
            "WARNING:absl:`FeatureConnector.dtype` is deprecated. Please change your code to use NumPy with the field `FeatureConnector.np_dtype` or use TensorFlow with the field `FeatureConnector.tf_dtype`.\n",
            "WARNING:absl:`FeatureConnector.dtype` is deprecated. Please change your code to use NumPy with the field `FeatureConnector.np_dtype` or use TensorFlow with the field `FeatureConnector.tf_dtype`.\n",
            "WARNING:absl:`FeatureConnector.dtype` is deprecated. Please change your code to use NumPy with the field `FeatureConnector.np_dtype` or use TensorFlow with the field `FeatureConnector.tf_dtype`.\n",
            "WARNING:absl:`FeatureConnector.dtype` is deprecated. Please change your code to use NumPy with the field `FeatureConnector.np_dtype` or use TensorFlow with the field `FeatureConnector.tf_dtype`.\n",
            "WARNING:absl:`FeatureConnector.dtype` is deprecated. Please change your code to use NumPy with the field `FeatureConnector.np_dtype` or use TensorFlow with the field `FeatureConnector.tf_dtype`.\n",
            "WARNING:absl:`FeatureConnector.dtype` is deprecated. Please change your code to use NumPy with the field `FeatureConnector.np_dtype` or use TensorFlow with the field `FeatureConnector.tf_dtype`.\n",
            "WARNING:absl:`FeatureConnector.dtype` is deprecated. Please change your code to use NumPy with the field `FeatureConnector.np_dtype` or use TensorFlow with the field `FeatureConnector.tf_dtype`.\n",
            "WARNING:absl:`FeatureConnector.dtype` is deprecated. Please change your code to use NumPy with the field `FeatureConnector.np_dtype` or use TensorFlow with the field `FeatureConnector.tf_dtype`.\n",
            "WARNING:absl:`FeatureConnector.dtype` is deprecated. Please change your code to use NumPy with the field `FeatureConnector.np_dtype` or use TensorFlow with the field `FeatureConnector.tf_dtype`.\n",
            "WARNING:absl:`FeatureConnector.dtype` is deprecated. Please change your code to use NumPy with the field `FeatureConnector.np_dtype` or use TensorFlow with the field `FeatureConnector.tf_dtype`.\n"
          ]
        }
      ],
      "source": [
        "# in this section we will load the data from the tensorflow dataset\n",
        "tfds.disable_progress_bar()\n",
        "PROJECT_ROOT_DIR =\"E:\\OneDrive - University of Ottawa\\CV\\CV Project\"\n",
        "print(PROJECT_ROOT_DIR)\n",
        "\n",
        "data_path = os.path.join(PROJECT_ROOT_DIR, 'tensorflow_data')\n",
        "data_path = os.path.join(data_path, 'tensorflow_data')\n",
        "os.makedirs(data_path, exist_ok = True)\n",
        "print(\"Using directory: \", data_path)\n",
        "\n",
        "flow_data_set_linear   = tfds.load('elg7186_projectdata/linear_movement_rotate', data_dir=data_path)\n",
        "flow_data_set_rotation = tfds.load('elg7186_projectdata/rotation_rotate', data_dir=data_path)\n",
        "flow_data_set_fixed    = tfds.load('elg7186_projectdata/fixed_random_rotate', data_dir=data_path)\n"
      ]
    },
    {
      "cell_type": "code",
      "execution_count": 3,
      "metadata": {},
      "outputs": [],
      "source": [
        "def make_df(data_set):\n",
        "    df_list = []  # Create a list to hold DataFrames\n",
        "    iter_data = iter(data_set['train'])\n",
        "    \n",
        "    for i in range(len(data_set['train'])):\n",
        "        train_data = next(iter_data)\n",
        "        video_frames = []\n",
        "        \n",
        "        for j in range(len(train_data['video'])):\n",
        "            video_frames.append({'img': np.array(train_data['video'][j, :, :, :]),\n",
        "                                 'y': train_data['instances']['category'].numpy()})\n",
        "        \n",
        "        df_list.append(pd.DataFrame(video_frames))\n",
        "    \n",
        "    return pd.concat(df_list, ignore_index=True)\n",
        "\n",
        "# Create dataframes for each dataset\n",
        "df_linear = make_df(flow_data_set_linear)  # 720 frames\n",
        "df_fixed = make_df(flow_data_set_fixed)    # 720 frames\n",
        "df_rot = make_df(flow_data_set_rotation)   # 720 frames\n",
        "\n",
        "# Concatenate the dataframes into one dataframe\n",
        "df = pd.concat([df_linear, df_fixed, df_rot], ignore_index=True)  # 2160 frames\n"
      ]
    },
    {
      "cell_type": "markdown",
      "metadata": {
        "id": "OryTTnMO-Lac"
      },
      "source": [
        "## make a copy from the dataframe to keep the original one away from modification"
      ]
    },
    {
      "cell_type": "code",
      "execution_count": 4,
      "metadata": {
        "id": "hLUSWZWEsuWB"
      },
      "outputs": [],
      "source": [
        "import copy\n",
        "df_copy = copy.deepcopy(df)\n",
        "df_copy['z'] = df_copy['y'].apply(lambda x: 1 if 14 in x else 0)  # 14 is shoe"
      ]
    },
    {
      "cell_type": "markdown",
      "metadata": {
        "id": "NSkiLynYATKs"
      },
      "source": [
        "# Now the data is ready for the training step"
      ]
    },
    {
      "cell_type": "code",
      "execution_count": 5,
      "metadata": {},
      "outputs": [],
      "source": [
        "import os\n",
        "\n",
        "# Define the base directory path\n",
        "base_dir = \"E:/OneDrive - University of Ottawa/CV/CV Project/Data\"\n",
        "\n",
        "# Creating Folders for yolo\n",
        "# Define the classes (ClassA and ClassB)\n",
        "classes = ['Shoe', 'No_Shoe']\n",
        "\n",
        "# Define the split types (train, test, val)\n",
        "splits = ['train', 'test', 'val']\n",
        "\n",
        "# Create directories\n",
        "for split in splits:\n",
        "    split_dir = os.path.join(base_dir, split)\n",
        "    os.makedirs(split_dir, exist_ok=True)\n",
        "    for class_name in classes:\n",
        "        class_dir = os.path.join(split_dir, class_name)\n",
        "        os.makedirs(class_dir, exist_ok=True)\n"
      ]
    },
    {
      "cell_type": "code",
      "execution_count": 6,
      "metadata": {},
      "outputs": [],
      "source": [
        "from sklearn.model_selection import train_test_split\n",
        "\n",
        "# Split the data into train, validation, and test sets\n",
        "train_data, temp_data = train_test_split(df_copy, test_size=0.3, random_state=42, shuffle=True)\n",
        "val_data, test_data = train_test_split(temp_data, test_size=0.5, random_state=42, shuffle=True)"
      ]
    },
    {
      "cell_type": "code",
      "execution_count": 7,
      "metadata": {},
      "outputs": [],
      "source": [
        "from PIL import Image\n",
        "\n",
        "# Function to save images in the specified directory\n",
        "def save_images(data, split_type):\n",
        "    for index, row in data.iterrows():\n",
        "        img_array = row['img']\n",
        "        class_label = row['z']\n",
        "\n",
        "        class_name = 'Shoe' if class_label == 1 else 'No_Shoe'\n",
        "\n",
        "        image_filename = f\"{class_name}_{index}.jpg\"\n",
        "        image_path = os.path.join(base_dir, split_type, class_name, image_filename)\n",
        "\n",
        "        image = Image.fromarray(img_array)\n",
        "        image.save(image_path)\n",
        "\n",
        "# Save images for train, validation, and test sets\n",
        "save_images(train_data, 'train')\n",
        "save_images(val_data, 'val')\n",
        "save_images(test_data, 'test')\n"
      ]
    },
    {
      "cell_type": "code",
      "execution_count": 143,
      "metadata": {},
      "outputs": [
        {
          "name": "stderr",
          "output_type": "stream",
          "text": [
            "New https://pypi.org/project/ultralytics/8.0.207 available  Update with 'pip install -U ultralytics'\n",
            "Ultralytics YOLOv8.0.181  Python-3.11.5 torch-2.0.1+cpu CPU (Intel Core(TM) i7-10700 2.90GHz)\n",
            "\u001b[34m\u001b[1mengine\\trainer: \u001b[0mtask=classify, mode=train, model=yolov8n-cls.pt, data=E:/OneDrive - University of Ottawa/CV/CV Project/Data, epochs=2, patience=50, batch=16, imgsz=128, save=True, save_period=-1, cache=False, device=None, workers=8, project=None, name=None, exist_ok=False, pretrained=True, optimizer=auto, verbose=True, seed=0, deterministic=True, single_cls=False, rect=False, cos_lr=False, close_mosaic=10, resume=False, amp=True, fraction=1.0, profile=False, freeze=None, overlap_mask=True, mask_ratio=4, dropout=0.0, val=True, split=val, save_json=False, save_hybrid=False, conf=None, iou=0.7, max_det=300, half=False, dnn=False, plots=True, source=None, show=False, save_txt=False, save_conf=False, save_crop=False, show_labels=True, show_conf=True, vid_stride=1, stream_buffer=False, line_width=None, visualize=False, augment=False, agnostic_nms=False, classes=None, retina_masks=False, boxes=True, format=torchscript, keras=False, optimize=False, int8=False, dynamic=False, simplify=False, opset=None, workspace=4, nms=False, lr0=0.01, lrf=0.01, momentum=0.937, weight_decay=0.0005, warmup_epochs=3.0, warmup_momentum=0.8, warmup_bias_lr=0.1, box=7.5, cls=0.5, dfl=1.5, pose=12.0, kobj=1.0, label_smoothing=0.0, nbs=64, hsv_h=0.015, hsv_s=0.7, hsv_v=0.4, degrees=0.0, translate=0.1, scale=0.5, shear=0.0, perspective=0.0, flipud=0.0, fliplr=0.5, mosaic=1.0, mixup=0.0, copy_paste=0.0, cfg=None, tracker=botsort.yaml, save_dir=runs\\classify\\train5\n",
            "\u001b[34m\u001b[1mtrain:\u001b[0m E:\\OneDrive - University of Ottawa\\CV\\CV Project\\Data\\train... found 1512 images in 2 classes  \n",
            "\u001b[34m\u001b[1mval:\u001b[0m E:\\OneDrive - University of Ottawa\\CV\\CV Project\\Data\\val... found 324 images in 2 classes  \n",
            "\u001b[34m\u001b[1mtest:\u001b[0m None...\n",
            "Overriding model.yaml nc=1000 with nc=2\n",
            "\n",
            "                   from  n    params  module                                       arguments                     \n",
            "  0                  -1  1       464  ultralytics.nn.modules.conv.Conv             [3, 16, 3, 2]                 \n",
            "  1                  -1  1      4672  ultralytics.nn.modules.conv.Conv             [16, 32, 3, 2]                \n",
            "  2                  -1  1      7360  ultralytics.nn.modules.block.C2f             [32, 32, 1, True]             \n",
            "  3                  -1  1     18560  ultralytics.nn.modules.conv.Conv             [32, 64, 3, 2]                \n",
            "  4                  -1  2     49664  ultralytics.nn.modules.block.C2f             [64, 64, 2, True]             \n",
            "  5                  -1  1     73984  ultralytics.nn.modules.conv.Conv             [64, 128, 3, 2]               \n",
            "  6                  -1  2    197632  ultralytics.nn.modules.block.C2f             [128, 128, 2, True]           \n",
            "  7                  -1  1    295424  ultralytics.nn.modules.conv.Conv             [128, 256, 3, 2]              \n",
            "  8                  -1  1    460288  ultralytics.nn.modules.block.C2f             [256, 256, 1, True]           \n",
            "  9                  -1  1    332802  ultralytics.nn.modules.head.Classify         [256, 2]                      \n",
            "YOLOv8n-cls summary: 99 layers, 1440850 parameters, 1440850 gradients, 3.4 GFLOPs\n",
            "Transferred 156/158 items from pretrained weights\n",
            "WARNING  ClearML installed but not initialized correctly, not logging this run. It seems ClearML is not configured on this machine!\n",
            "To get started with ClearML, setup your own 'clearml-server' or create a free account at https://app.clear.ml\n",
            "Setup instructions can be found here: https://clear.ml/docs\n",
            "\u001b[34m\u001b[1mTensorBoard: \u001b[0mStart with 'tensorboard --logdir runs\\classify\\train5', view at http://localhost:6006/\n",
            "\u001b[34m\u001b[1mtrain: \u001b[0mScanning E:\\OneDrive - University of Ottawa\\CV\\CV Project\\Data\\train... 1512 images, 0 corrupt: 100%|██████████| 1512/1512 [00:00<?, ?it/s]\n",
            "\u001b[34m\u001b[1mval: \u001b[0mScanning E:\\OneDrive - University of Ottawa\\CV\\CV Project\\Data\\val... 324 images, 0 corrupt: 100%|██████████| 324/324 [00:00<?, ?it/s]\n",
            "\u001b[34m\u001b[1moptimizer:\u001b[0m 'optimizer=auto' found, ignoring 'lr0=0.01' and 'momentum=0.937' and determining best 'optimizer', 'lr0' and 'momentum' automatically... \n",
            "\u001b[34m\u001b[1moptimizer:\u001b[0m AdamW(lr=0.000714, momentum=0.9) with parameter groups 26 weight(decay=0.0), 27 weight(decay=0.0005), 27 bias(decay=0.0)\n",
            "Image sizes 128 train, 128 val\n",
            "Using 0 dataloader workers\n",
            "Logging results to \u001b[1mruns\\classify\\train5\u001b[0m\n",
            "Starting training for 2 epochs...\n",
            "\n",
            "      Epoch    GPU_mem       loss  Instances       Size\n",
            "        1/2         0G     0.1303          8        128: 100%|██████████| 95/95 [00:12<00:00,  7.36it/s]\n",
            "               classes   top1_acc   top5_acc: 100%|██████████| 11/11 [00:00<00:00, 11.30it/s]\n",
            "                   all      0.978          1\n",
            "\n",
            "      Epoch    GPU_mem       loss  Instances       Size\n",
            "        2/2         0G    0.02286          8        128: 100%|██████████| 95/95 [00:12<00:00,  7.36it/s]\n",
            "               classes   top1_acc   top5_acc: 100%|██████████| 11/11 [00:01<00:00,  9.70it/s]\n",
            "                   all      0.997          1\n",
            "\n",
            "2 epochs completed in 0.008 hours.\n",
            "Optimizer stripped from runs\\classify\\train5\\weights\\last.pt, 3.0MB\n",
            "Optimizer stripped from runs\\classify\\train5\\weights\\best.pt, 3.0MB\n",
            "\n",
            "Validating runs\\classify\\train5\\weights\\best.pt...\n",
            "Ultralytics YOLOv8.0.181  Python-3.11.5 torch-2.0.1+cpu CPU (Intel Core(TM) i7-10700 2.90GHz)\n",
            "YOLOv8n-cls summary (fused): 73 layers, 1437442 parameters, 0 gradients, 3.3 GFLOPs\n",
            "\u001b[34m\u001b[1mtrain:\u001b[0m E:\\OneDrive - University of Ottawa\\CV\\CV Project\\Data\\train... found 1512 images in 2 classes  \n",
            "\u001b[34m\u001b[1mval:\u001b[0m E:\\OneDrive - University of Ottawa\\CV\\CV Project\\Data\\val... found 324 images in 2 classes  \n",
            "\u001b[34m\u001b[1mtest:\u001b[0m None...\n",
            "               classes   top1_acc   top5_acc: 100%|██████████| 11/11 [00:00<00:00, 11.64it/s]\n",
            "                   all      0.997          1\n",
            "Speed: 0.0ms preprocess, 1.7ms inference, 0.0ms loss, 0.0ms postprocess per image\n",
            "Results saved to \u001b[1mruns\\classify\\train5\u001b[0m\n",
            "Results saved to \u001b[1mruns\\classify\\train5\u001b[0m\n"
          ]
        }
      ],
      "source": [
        "import os\n",
        "\n",
        "from ultralytics import YOLO\n",
        "\n",
        "\n",
        "# Load a model\n",
        "model = YOLO(\"yolov8n-cls.pt\")  # load a pretained model\n",
        "\n",
        "# Use the model\n",
        "results = model.train(data=base_dir, epochs=2, imgsz=128)  # train the model"
      ]
    },
    {
      "cell_type": "code",
      "execution_count": 144,
      "metadata": {},
      "outputs": [],
      "source": [
        "def plot_confusion_matrix(TP, TN, FP, FN):\n",
        "    confusion_matrix = np.array([[TP, FP],\n",
        "                                 [FN, TN]])\n",
        "\n",
        "    plt.imshow(confusion_matrix, interpolation='nearest', cmap=plt.cm.Blues)\n",
        "    plt.title(\"Confusion Matrix\")\n",
        "    plt.colorbar()\n",
        "\n",
        "    tick_marks = np.arange(2)\n",
        "    plt.xticks(tick_marks, [\"Shoe\", \"No Shoe\"], rotation=45)\n",
        "    plt.yticks(tick_marks, [\"Shoe\", \"No Shoe\"])\n",
        "\n",
        "    plt.xlabel(\"Predicted\")\n",
        "    plt.ylabel(\"Actual\")\n",
        "\n",
        "    for i in range(2):\n",
        "        for j in range(2):\n",
        "            plt.text(j, i, str(confusion_matrix[i, j]), horizontalalignment=\"center\", color=\"white\" if i == j else \"black\")\n",
        "\n",
        "    plt.tight_layout()\n",
        "    plt.show()"
      ]
    },
    {
      "cell_type": "code",
      "execution_count": null,
      "metadata": {},
      "outputs": [],
      "source": [
        "# Load a model\n",
        "# model = YOLO('yolov8n-cls.pt')  # load an official model\n",
        "model = YOLO(r\"E:\\OneDrive - University of Ottawa\\CV\\CV Project\\PreProcess\\runs\\classify\\train4\\weights\\best.pt\")  # load a custom model\n",
        "\n",
        "# Predict with the model\n",
        "shoe = model(r\"E:\\OneDrive - University of Ottawa\\CV\\CV Project\\Data\\test\\Shoe\")  # predict on an image\n",
        "no_shoe = model(r\"E:\\OneDrive - University of Ottawa\\CV\\CV Project\\Data\\test\\No_Shoe\")  # predict on an image"
      ]
    },
    {
      "cell_type": "code",
      "execution_count": 146,
      "metadata": {},
      "outputs": [
        {
          "name": "stdout",
          "output_type": "stream",
          "text": [
            "TP: 166\n",
            "FP: 0\n",
            "TN: 157\n",
            "FN: 1\n"
          ]
        }
      ],
      "source": [
        "counts=[]\n",
        "for result in shoe:\n",
        "    probs = result.probs.data.tolist()\n",
        "    # print(probs)\n",
        "    index = probs.index(max(probs))\n",
        "    counts.append(index)\n",
        "TP = counts.count(1)\n",
        "FN = counts.count(0)\n",
        "\n",
        "counts1=[]\n",
        "for result in no_shoe:\n",
        "    probs = result.probs.data.tolist()\n",
        "    # print(probs)\n",
        "    index = probs.index(max(probs))\n",
        "    counts1.append(index)\n",
        "TN = counts1.count(0)\n",
        "FP = counts1.count(1)\n",
        "\n",
        "confusion_matrix_data = [[TN, FP], [FN, TP]]\n",
        "\n",
        "print(\"TP:\",TP)\n",
        "print(\"FP:\",FP)\n",
        "print(\"TN:\",TN)\n",
        "print(\"FN:\",FN)"
      ]
    },
    {
      "cell_type": "code",
      "execution_count": 147,
      "metadata": {},
      "outputs": [
        {
          "data": {
            "image/png": "[encoded data removed]",
            "text/plain": [
              "<Figure size 640x480 with 2 Axes>"
            ]
          },
          "metadata": {},
          "output_type": "display_data"
        },
        {
          "name": "stdout",
          "output_type": "stream",
          "text": [
            "Test Accuracy: 0.9969135802469136\n",
            "Test Recall: 0.9940119760479041\n",
            "Test Precision: 1.0\n",
            "Test F1-score: 0.996996996996997\n"
          ]
        }
      ],
      "source": [
        "plot_confusion_matrix(TP, TN, FP, FN)\n",
        "\n",
        "# Calculate Accuracy\n",
        "accuracy = (TP + TN) / (TP + TN + FP + FN)\n",
        "\n",
        "# Calculate Precision\n",
        "precision = TP / (TP + FP)\n",
        "\n",
        "# Calculate Recall\n",
        "recall = TP / (TP + FN)\n",
        "\n",
        "# Calculate F1-Score\n",
        "f1 = (2 * precision * recall) / (precision + recall)\n",
        "\n",
        "print(\"Test Accuracy:\", accuracy)\n",
        "print(\"Test Recall:\", recall)\n",
        "print(\"Test Precision:\", precision)\n",
        "print(\"Test F1-score:\", f1)"
      ]
    }
  ],
  "metadata": {
    "accelerator": "GPU",
    "colab": {
      "collapsed_sections": [
        "HuqNStgLCUwX",
        "w52UEy8oCSHd",
        "igaCDJNNuLQp",
        "zTqpR-nJukkv",
        "aZkBxBMtSya1"
      ],
      "gpuType": "T4",
      "provenance": []
    },
    "kernelspec": {
      "display_name": "Python 3",
      "name": "python3"
    },
    "language_info": {
      "codemirror_mode": {
        "name": "ipython",
        "version": 3
      },
      "file_extension": ".py",
      "mimetype": "text/x-python",
      "name": "python",
      "nbconvert_exporter": "python",
      "pygments_lexer": "ipython3",
      "version": "3.11.5"
    }
  },
  "nbformat": 4,
  "nbformat_minor": 0
}
